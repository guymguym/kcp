{
 "cells": [
  {
   "cell_type": "markdown",
   "metadata": {},
   "source": [
    "# KCP Storage\n",
    "\n",
    "This is a notebook for working on KCP Storage.\n",
    "\n",
    "---"
   ]
  },
  {
   "cell_type": "markdown",
   "metadata": {},
   "source": [
    "## First Time Setup"
   ]
  },
  {
   "cell_type": "markdown",
   "metadata": {},
   "source": [
    "### Setup Python\n",
    "\n",
    "WARNING - Run this script outside the notebook (copy paste to your terminal).\n",
    "\n",
    "This script sets up the notebook virtualenv and the `bash_kernel` to be able to execute bash cells."
   ]
  },
  {
   "cell_type": "code",
   "execution_count": null,
   "metadata": {
    "vscode": {
     "languageId": "shellscript"
    }
   },
   "outputs": [],
   "source": [
    "python -m venv .venv\n",
    ". .venv/bin/activate\n",
    "pip install notebook\n",
    "pip install bash_kernel\n",
    "python -m bash_kernel.install\n",
    "deactivate"
   ]
  },
  {
   "cell_type": "markdown",
   "metadata": {},
   "source": [
    "### Setup for Mac - Podman Machine, Kind, etc.\n",
    "\n",
    "WARNING - Run this script outside the notebook (copy paste to your terminal).\n",
    "\n",
    "Refer to [kind rootless docs](https://kind.sigs.k8s.io/docs/user/rootless)."
   ]
  },
  {
   "cell_type": "code",
   "execution_count": null,
   "metadata": {
    "vscode": {
     "languageId": "shellscript"
    }
   },
   "outputs": [],
   "source": [
    "brew install podman docker kind ko jq\n",
    "sudo podman-mac-helper install\n",
    "\n",
    "podman machine init\n",
    "podman machine start\n",
    "podman machine ssh\n",
    "# next commands run inside the machine shell\n",
    "sudo bash -c 'cat << EOF > /etc/systemd/system/user@.service.d/delegate.conf\n",
    "[Service]\n",
    "Delegate=yes\n",
    "EOF'\n",
    "sudo bash -c 'cat << EOF > /etc/modules-load.d/iptables.conf\n",
    "ip6_tables\n",
    "ip6table_nat\n",
    "ip_tables\n",
    "iptable_nat\n",
    "EOF'\n",
    "sudo systemctl daemon-reload\n",
    "sudo modprobe -v ip6_tables\n",
    "sudo lsmod | grep ip6\n",
    "exit"
   ]
  },
  {
   "cell_type": "markdown",
   "metadata": {},
   "source": [
    "## Env\n",
    "\n",
    "DON'T FORGET to run this step in every new notebook/shell or after restarting the notebook kernel."
   ]
  },
  {
   "cell_type": "code",
   "execution_count": null,
   "metadata": {
    "vscode": {
     "languageId": "shellscript"
    }
   },
   "outputs": [],
   "source": [
    "export PATH=\"${PATH}:${PWD}/bin\"\n",
    "export KUBECONFIG=\".kcp/admin.kubeconfig\"\n",
    "export KIND_EXPERIMENTAL_PROVIDER=podman\n",
    "export SYNCER_LOCAL_IMAGE=\"ko.local/github.com/kcp-dev/kcp/cmd/syncer\""
   ]
  },
  {
   "cell_type": "markdown",
   "metadata": {},
   "source": [
    "## Build\n",
    "\n",
    "Run these after updating the code or rebasing from upstream."
   ]
  },
  {
   "cell_type": "markdown",
   "metadata": {},
   "source": [
    "### Build KCP Binaries\n",
    "\n",
    "Builds the project binaries into `bin/` dir."
   ]
  },
  {
   "cell_type": "code",
   "execution_count": null,
   "metadata": {
    "vscode": {
     "languageId": "shellscript"
    }
   },
   "outputs": [],
   "source": [
    "make"
   ]
  },
  {
   "cell_type": "markdown",
   "metadata": {},
   "source": [
    "### Build Syncer Image\n",
    "\n",
    "This script works for Mac M1 (arm64) with podman machine (linux vm).\n",
    "TODO - Need to adjust it for linux hosts."
   ]
  },
  {
   "cell_type": "code",
   "execution_count": null,
   "metadata": {
    "vscode": {
     "languageId": "shellscript"
    }
   },
   "outputs": [],
   "source": [
    "podman machine start\n",
    "ko build --local -t latest --tag-only --preserve-import-paths --platform=linux/arm64 ./cmd/syncer\n",
    "podman images"
   ]
  },
  {
   "cell_type": "markdown",
   "metadata": {},
   "source": [
    "## KCP"
   ]
  },
  {
   "cell_type": "markdown",
   "metadata": {},
   "source": [
    "### Run KCP\n",
    "\n",
    "WARNING - Run this script outside the notebook (copy paste to your terminal).\n",
    "\n",
    "Running kcp in the foregeround will block the notebook, so let it run in the background.\n",
    "\n",
    "If you need to reset kcp state, just delete the entire `.kcp` dir.\n",
    "\n",
    "The binary itself is in the `bin/` dir and should be in PATH after the Env step."
   ]
  },
  {
   "cell_type": "code",
   "execution_count": null,
   "metadata": {
    "vscode": {
     "languageId": "shellscript"
    }
   },
   "outputs": [],
   "source": [
    "kcp start"
   ]
  },
  {
   "cell_type": "markdown",
   "metadata": {},
   "source": [
    "### Workspace\n",
    "\n",
    "Set up the workspace, which is a virtual cluster (or tenant)."
   ]
  },
  {
   "cell_type": "code",
   "execution_count": null,
   "metadata": {
    "vscode": {
     "languageId": "shellscript"
    }
   },
   "outputs": [],
   "source": [
    "kubectl config use-context default\n",
    "kubectl ws create kcp-storage --enter --ignore-existing\n",
    "kubectl ws create-context kcp-storage --overwrite\n",
    "kubectl config get-contexts"
   ]
  },
  {
   "cell_type": "markdown",
   "metadata": {},
   "source": [
    "## Workload Clusters\n",
    "\n",
    "Start kind clusters on podman machine."
   ]
  },
  {
   "cell_type": "markdown",
   "metadata": {},
   "source": [
    "### Create 2 fresh clusters\n",
    "\n",
    "WARNING - this step is destructive and will delete the existing clusters first."
   ]
  },
  {
   "cell_type": "code",
   "execution_count": null,
   "metadata": {
    "vscode": {
     "languageId": "shellscript"
    }
   },
   "outputs": [],
   "source": [
    "kind delete cluster --name cluster1\n",
    "kind delete cluster --name cluster2\n",
    "kind create cluster --name cluster1\n",
    "kind create cluster --name cluster2\n",
    "kubectl config use-context kcp-storage # back to kcp\n",
    "kubectl config get-contexts"
   ]
  },
  {
   "cell_type": "markdown",
   "metadata": {},
   "source": [
    "### Configure contexts\n",
    "\n",
    "This step makes sure that the kubeconfig file of kcp also has the contexts for the workload clusters.\n",
    "\n",
    "This is needed after every kcp restart because it resets the kubeconfig file."
   ]
  },
  {
   "cell_type": "code",
   "execution_count": null,
   "metadata": {
    "vscode": {
     "languageId": "shellscript"
    }
   },
   "outputs": [],
   "source": [
    "kind export kubeconfig --name cluster1\n",
    "kind export kubeconfig --name cluster2\n",
    "kubectl config use-context kcp-storage # back to kcp\n",
    "kubectl config get-contexts"
   ]
  },
  {
   "cell_type": "markdown",
   "metadata": {},
   "source": [
    "### Stop and start clusters\n",
    "\n",
    "This step will restart the workload clusters using podman/kind.\n",
    "\n",
    "You can take just one of those to stop a single cluster."
   ]
  },
  {
   "cell_type": "code",
   "execution_count": null,
   "metadata": {
    "vscode": {
     "languageId": "shellscript"
    }
   },
   "outputs": [],
   "source": [
    "podman stop cluster1-control-plane\n",
    "podman stop cluster2-control-plane\n",
    "podman start cluster1-control-plane\n",
    "podman start cluster2-control-plane"
   ]
  },
  {
   "cell_type": "markdown",
   "metadata": {},
   "source": [
    "## Syncer\n",
    "\n",
    "Run syncer per cluster to connect it to kcp."
   ]
  },
  {
   "cell_type": "markdown",
   "metadata": {},
   "source": [
    "### Deploy\n",
    "\n",
    "Load syncer image into the clusters, prepare the syncer yaml, and re-apply it to the clusters."
   ]
  },
  {
   "cell_type": "code",
   "execution_count": null,
   "metadata": {
    "vscode": {
     "languageId": "shellscript"
    }
   },
   "outputs": [],
   "source": [
    "#SYNCER_RESOURCES=persistentvolumeclaims,statefulsets.apps,services,storageclasses.storage.k8s.io\n",
    "SYNCER_RESOURCES=persistentvolumeclaims,statefulsets.apps,services\n",
    "\n",
    "kind load docker-image $SYNCER_LOCAL_IMAGE --name cluster1\n",
    "kind load docker-image $SYNCER_LOCAL_IMAGE --name cluster2\n",
    "\n",
    "kubectl kcp workload sync cluster1 --syncer-image $SYNCER_LOCAL_IMAGE --resources=$SYNCER_RESOURCES > syncer-cluster1.yaml\n",
    "kubectl kcp workload sync cluster2 --syncer-image $SYNCER_LOCAL_IMAGE --resources=$SYNCER_RESOURCES > syncer-cluster2.yaml\n",
    "\n",
    "kubectl delete --ignore-not-found -f syncer-cluster1.yaml --context kind-cluster1\n",
    "kubectl delete --ignore-not-found -f syncer-cluster2.yaml --context kind-cluster2\n",
    "\n",
    "kubectl apply -f syncer-cluster1.yaml --context kind-cluster1\n",
    "kubectl apply -f syncer-cluster2.yaml --context kind-cluster2"
   ]
  },
  {
   "cell_type": "markdown",
   "metadata": {},
   "source": [
    "### Set current namespace to syncer"
   ]
  },
  {
   "cell_type": "code",
   "execution_count": null,
   "metadata": {
    "vscode": {
     "languageId": "shellscript"
    }
   },
   "outputs": [],
   "source": [
    "kubectl config set-context kind-cluster1 --namespace $(kubectl get ns -o name --context kind-cluster1 | grep --color=none kcpsync | cut -d/ -f2)\n",
    "kubectl config set-context kind-cluster2 --namespace $(kubectl get ns -o name --context kind-cluster2 | grep --color=none kcpsync | cut -d/ -f2)\n",
    "kubectl config get-contexts"
   ]
  },
  {
   "cell_type": "markdown",
   "metadata": {},
   "source": [
    "### Check deployments"
   ]
  },
  {
   "cell_type": "code",
   "execution_count": null,
   "metadata": {
    "vscode": {
     "languageId": "shellscript"
    }
   },
   "outputs": [],
   "source": [
    "kubectl get -f syncer-cluster1.yaml --context kind-cluster1\n",
    "echo; echo ====================; echo ====================; echo; \n",
    "kubectl get -f syncer-cluster2.yaml --context kind-cluster2"
   ]
  },
  {
   "cell_type": "markdown",
   "metadata": {},
   "source": [
    "### Check logs"
   ]
  },
  {
   "cell_type": "code",
   "execution_count": null,
   "metadata": {
    "vscode": {
     "languageId": "shellscript"
    }
   },
   "outputs": [],
   "source": [
    "kubectl logs --tail=10 deploy/kcp-syncer --context kind-cluster1\n",
    "echo; echo ====================; echo ====================; echo; \n",
    "kubectl logs --tail=10 deploy/kcp-syncer --context kind-cluster2"
   ]
  },
  {
   "cell_type": "markdown",
   "metadata": {},
   "source": [
    "### Check ready"
   ]
  },
  {
   "cell_type": "code",
   "execution_count": null,
   "metadata": {
    "vscode": {
     "languageId": "shellscript"
    }
   },
   "outputs": [],
   "source": [
    "kubectl get workloadclusters -o wide"
   ]
  },
  {
   "cell_type": "markdown",
   "metadata": {},
   "source": [
    "## Application\n",
    "\n",
    "A simple app with a statefulset and a PVC template to be provisioned per sts instance."
   ]
  },
  {
   "cell_type": "markdown",
   "metadata": {},
   "source": [
    "### Deploy app to KCP"
   ]
  },
  {
   "cell_type": "code",
   "execution_count": null,
   "metadata": {
    "vscode": {
     "languageId": "shellscript"
    }
   },
   "outputs": [],
   "source": [
    "kubectl config set-context kcp-storage --namespace=app1\n",
    "kubectl create ns app1 --context kcp-storage\n",
    "kubectl delete -f app1.yaml --context kcp-storage\n",
    "kubectl apply -f app1.yaml --context kcp-storage"
   ]
  },
  {
   "cell_type": "markdown",
   "metadata": {},
   "source": [
    "### Check app status"
   ]
  },
  {
   "cell_type": "code",
   "execution_count": null,
   "metadata": {
    "vscode": {
     "languageId": "shellscript"
    }
   },
   "outputs": [],
   "source": [
    "kubectl get ns --context kcp-storage\n",
    "kubectl get -f app1.yaml --context kcp-storage\n",
    "kubectl get all -A -l app=registry --context kind-cluster1\n",
    "kubectl get all -A -l app=registry --context kind-cluster2"
   ]
  },
  {
   "cell_type": "markdown",
   "metadata": {},
   "source": [
    "## Cleanup"
   ]
  },
  {
   "cell_type": "code",
   "execution_count": null,
   "metadata": {
    "vscode": {
     "languageId": "shellscript"
    }
   },
   "outputs": [],
   "source": [
    "podman delete cluster1-control-plane\n",
    "podman delete cluster2-control-plane\n",
    "rm -rf .kcp"
   ]
  }
 ],
 "metadata": {
  "interpreter": {
   "hash": "53bd440ca32c9587e912d148fb3e6131b88e6d8070a476c5abd997b9926c93de"
  },
  "kernelspec": {
   "display_name": "Bash",
   "language": "bash",
   "name": "bash"
  },
  "language_info": {
   "codemirror_mode": "shell",
   "file_extension": ".sh",
   "mimetype": "text/x-sh",
   "name": "bash"
  }
 },
 "nbformat": 4,
 "nbformat_minor": 2
}
